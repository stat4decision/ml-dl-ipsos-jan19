{
 "cells": [
  {
   "cell_type": "code",
   "execution_count": 1,
   "metadata": {},
   "outputs": [
    {
     "name": "stderr",
     "output_type": "stream",
     "text": [
      "Using TensorFlow backend.\n"
     ]
    },
    {
     "data": {
      "text/plain": [
       "'2.0.8'"
      ]
     },
     "execution_count": 1,
     "metadata": {},
     "output_type": "execute_result"
    }
   ],
   "source": [
    "import keras\n",
    "keras.__version__"
   ]
  },
  {
   "cell_type": "markdown",
   "metadata": {},
   "source": [
    "# Comprendre les réseaux de neurones récurrents\n",
    "\n",
    "Une caractéristique majeure de tous les réseaux de neurones que nous avons vus jusqu’à présent, tels que les réseaux à connexions denses, est qu’ils n’ont pas de mémoire. Chaque entrée qui leur est présentée est traitée indépendamment, aucun état n’est maintenu entre les entrées. \n",
    "\n",
    "Avec de tels réseaux, pour traiter une séquence ou une série temporelle, vous devez afficher la séquence complète en une fois sur le réseau : transformez-la en un seul point de données. "
   ]
  },
  {
   "cell_type": "markdown",
   "metadata": {},
   "source": [
    "\n",
    "\n",
    "En revanche, lors de la lecture d'une phrase, vous la traitez mot par mot, tout en gardant un souvenir de ce qui précédait\n",
    "\n",
    "L’intelligence biologique traite l’information progressivement tout en conservant un modèle interne de ce qu’elle traite, construit à partir d’informations antérieures et constamment mis à jour au fur et à mesure que de nouvelles informations arrivent.\n",
    "\n",
    "Un réseau de neurones récurrents (RNN) adopte le même principe, mais dans une version extrêmement simplifiée: il traite les séquences en itérant à travers les éléments de séquence et en maintenant un état contenant des informations relatives à ce qu'il a vu jusqu'à présent. \n",
    "\n",
    "Un RNN est un type de réseau de neurones à boucle interne. "
   ]
  },
  {
   "cell_type": "markdown",
   "metadata": {},
   "source": [
    "Au cours des dernières années, les RNN ont rencontré un succès incroyable dans de nombreux problèmes: reconnaissance de la parole, modélisation du langage, traduction..."
   ]
  },
  {
   "cell_type": "markdown",
   "metadata": {},
   "source": [
    "Les RNN représentent la famille de réseau de neurones qui traite les données de manière séquentielles. L’idée principale étant que chaque nouveau mot qui est prédit à partir de notre modèle, prend en compte l’état précédent afin de s’actualiser. L’état représente fondamentalement l’historique - la mémoire utilisée dans le réseau de neurones pour prendre en compte le passé afin de l’utiliser dans la prédiction à l’instant t.\n",
    "\n",
    "\n",
    "Deux problèmes principaux font suite à cette architecture fondamentale : la disparition du gradient, et son explosion. \n",
    "\n",
    "\n",
    "Lors de la backpropagation, on doit calculer un gradient qui est sujet à disparition/explosion. Cette disparition notamment a pour effet de faire “oublier” au RNN des informations qui pourraient pourtant être utiles au traitement actuel. \n",
    "\n",
    "\n",
    "Si j’ai un texte dans lequel une information primordiale est présente au début, il est très difficile de créer un RNN qui prenne en compte cette information sur la fin du texte. \n",
    "\n",
    "\n",
    "Il existe une grande variété de techniques qui sont utilisés pour gérer ce problème. Notamment en premier lieu, une architecture plus robuste qui a été imaginée quelques années après l’apparition des RNN appelée LSTM (Long Short Term Memory)"
   ]
  },
  {
   "cell_type": "code",
   "execution_count": 4,
   "metadata": {},
   "outputs": [],
   "source": [
    "from keras.layers import SimpleRNN"
   ]
  },
  {
   "cell_type": "markdown",
   "metadata": {},
   "source": [
    "\n",
    "Comme toutes les couches récurrentes de Keras, SimpleRNN peut être exécuté dans deux modes différents: \n",
    "\n",
    "- il peut renvoyer soit les séquences complètes de sorties successives pour chaque pas temporel (un tenseur 3D de forme (batch_size, timesteps, output_features)), \n",
    "\n",
    "- ou seulement la dernière sortie de chaque séquence d'entrée (un tenseur 2D de forme (batch_size, output_features)). \n",
    "\n",
    "\n",
    "Ces deux modes sont contrôlés par l'argument du constructeur return_sequences. Examinons un exemple qui utilise SimpleRNN et renvoie uniquement la dernière sortie :"
   ]
  },
  {
   "cell_type": "code",
   "execution_count": 1,
   "metadata": {},
   "outputs": [
    {
     "name": "stderr",
     "output_type": "stream",
     "text": [
      "C:\\Users\\s4d-asus-14\\Anaconda3\\lib\\site-packages\\h5py\\__init__.py:36: FutureWarning: Conversion of the second argument of issubdtype from `float` to `np.floating` is deprecated. In future, it will be treated as `np.float64 == np.dtype(float).type`.\n",
      "  from ._conv import register_converters as _register_converters\n",
      "Using TensorFlow backend.\n"
     ]
    },
    {
     "name": "stdout",
     "output_type": "stream",
     "text": [
      "_________________________________________________________________\n",
      "Layer (type)                 Output Shape              Param #   \n",
      "=================================================================\n",
      "embedding_1 (Embedding)      (None, None, 32)          320000    \n",
      "_________________________________________________________________\n",
      "simple_rnn_1 (SimpleRNN)     (None, 32)                2080      \n",
      "=================================================================\n",
      "Total params: 322,080\n",
      "Trainable params: 322,080\n",
      "Non-trainable params: 0\n",
      "_________________________________________________________________\n"
     ]
    }
   ],
   "source": [
    "from keras.models import Sequential\n",
    "from keras.layers import Embedding, SimpleRNN\n",
    "\n",
    "model = Sequential()\n",
    "model.add(Embedding(10000, 32))\n",
    "model.add(SimpleRNN(32))\n",
    "model.summary()"
   ]
  },
  {
   "cell_type": "code",
   "execution_count": 2,
   "metadata": {},
   "outputs": [
    {
     "name": "stdout",
     "output_type": "stream",
     "text": [
      "_________________________________________________________________\n",
      "Layer (type)                 Output Shape              Param #   \n",
      "=================================================================\n",
      "embedding_2 (Embedding)      (None, None, 32)          320000    \n",
      "_________________________________________________________________\n",
      "simple_rnn_2 (SimpleRNN)     (None, None, 32)          2080      \n",
      "=================================================================\n",
      "Total params: 322,080\n",
      "Trainable params: 322,080\n",
      "Non-trainable params: 0\n",
      "_________________________________________________________________\n"
     ]
    }
   ],
   "source": [
    "model = Sequential()\n",
    "model.add(Embedding(10000, 32))\n",
    "model.add(SimpleRNN(32, return_sequences=True))\n",
    "model.summary()"
   ]
  },
  {
   "cell_type": "markdown",
   "metadata": {},
   "source": [
    "\n",
    "Il est parfois utile d’empiler plusieurs couches récurrentes afin d’accroître la puissance de représentation d’un réseau. Dans une telle configuration, vous devez faire en sorte que toutes les couches intermédiaires renvoient la séquence complète des sorties:"
   ]
  },
  {
   "cell_type": "code",
   "execution_count": 3,
   "metadata": {},
   "outputs": [
    {
     "name": "stdout",
     "output_type": "stream",
     "text": [
      "_________________________________________________________________\n",
      "Layer (type)                 Output Shape              Param #   \n",
      "=================================================================\n",
      "embedding_3 (Embedding)      (None, None, 32)          320000    \n",
      "_________________________________________________________________\n",
      "simple_rnn_3 (SimpleRNN)     (None, None, 32)          2080      \n",
      "_________________________________________________________________\n",
      "simple_rnn_4 (SimpleRNN)     (None, None, 32)          2080      \n",
      "_________________________________________________________________\n",
      "simple_rnn_5 (SimpleRNN)     (None, None, 32)          2080      \n",
      "_________________________________________________________________\n",
      "simple_rnn_6 (SimpleRNN)     (None, 32)                2080      \n",
      "=================================================================\n",
      "Total params: 328,320\n",
      "Trainable params: 328,320\n",
      "Non-trainable params: 0\n",
      "_________________________________________________________________\n"
     ]
    }
   ],
   "source": [
    "model = Sequential()\n",
    "model.add(Embedding(10000, 32))\n",
    "model.add(SimpleRNN(32, return_sequences=True))\n",
    "model.add(SimpleRNN(32, return_sequences=True))\n",
    "model.add(SimpleRNN(32, return_sequences=True))\n",
    "model.add(SimpleRNN(32))  # This last layer only returns the last outputs.\n",
    "model.summary()"
   ]
  },
  {
   "cell_type": "markdown",
   "metadata": {},
   "source": [
    "Maintenant, utilisons un tel modèle sur le problème de classification de critiques de films IMDB. Tout d'abord, pré-traiter les données.\n"
   ]
  },
  {
   "cell_type": "code",
   "execution_count": 2,
   "metadata": {},
   "outputs": [
    {
     "name": "stdout",
     "output_type": "stream",
     "text": [
      "Loading data...\n",
      "25000 train sequences\n",
      "25000 test sequences\n",
      "Pad sequences (samples x time)\n",
      "input_train shape: (25000, 500)\n",
      "input_test shape: (25000, 500)\n"
     ]
    }
   ],
   "source": [
    "from keras.datasets import imdb\n",
    "from keras.preprocessing import sequence\n",
    "\n",
    "max_features = 10000  # number of words to consider as features\n",
    "maxlen = 500  # cut texts after this number of words (among top max_features most common words)\n",
    "batch_size = 32\n",
    "\n",
    "print('Loading data...')\n",
    "(input_train, y_train), (input_test, y_test) = imdb.load_data(num_words=max_features)\n",
    "print(len(input_train), 'train sequences')\n",
    "print(len(input_test), 'test sequences')\n",
    "\n",
    "print('Pad sequences (samples x time)')\n",
    "input_train = sequence.pad_sequences(input_train, maxlen=maxlen)\n",
    "input_test = sequence.pad_sequences(input_test, maxlen=maxlen)\n",
    "print('input_train shape:', input_train.shape)\n",
    "print('input_test shape:', input_test.shape)"
   ]
  },
  {
   "cell_type": "markdown",
   "metadata": {},
   "source": [
    "\n",
    "Entraînons un réseau récurrent simple en utilisant une couche `Embedding` et une couche `SimpleRNN`:"
   ]
  },
  {
   "cell_type": "code",
   "execution_count": 3,
   "metadata": {},
   "outputs": [
    {
     "name": "stdout",
     "output_type": "stream",
     "text": [
      "Train on 20000 samples, validate on 5000 samples\n",
      "Epoch 1/10\n",
      "20000/20000 [==============================] - 15s 753us/step - loss: 0.6412 - acc: 0.6150 - val_loss: 0.4917 - val_acc: 0.7780\n",
      "Epoch 2/10\n",
      "20000/20000 [==============================] - 15s 732us/step - loss: 0.4115 - acc: 0.8237 - val_loss: 0.4251 - val_acc: 0.8126\n",
      "Epoch 3/10\n",
      "20000/20000 [==============================] - 15s 732us/step - loss: 0.3027 - acc: 0.8784 - val_loss: 0.4824 - val_acc: 0.7756\n",
      "Epoch 4/10\n",
      "20000/20000 [==============================] - 16s 785us/step - loss: 0.2224 - acc: 0.9121 - val_loss: 0.3925 - val_acc: 0.8360\n",
      "Epoch 5/10\n",
      "20000/20000 [==============================] - 16s 804us/step - loss: 0.1524 - acc: 0.9438 - val_loss: 0.3831 - val_acc: 0.8658\n",
      "Epoch 6/10\n",
      "20000/20000 [==============================] - 16s 818us/step - loss: 0.0948 - acc: 0.9677 - val_loss: 0.4980 - val_acc: 0.8094\n",
      "Epoch 7/10\n",
      "20000/20000 [==============================] - 18s 913us/step - loss: 0.0596 - acc: 0.9818 - val_loss: 0.4968 - val_acc: 0.8336\n",
      "Epoch 8/10\n",
      "20000/20000 [==============================] - 17s 857us/step - loss: 0.0471 - acc: 0.9861 - val_loss: 0.5365 - val_acc: 0.8412\n",
      "Epoch 9/10\n",
      "20000/20000 [==============================] - 17s 873us/step - loss: 0.0277 - acc: 0.9919 - val_loss: 0.6007 - val_acc: 0.8314\n",
      "Epoch 10/10\n",
      "20000/20000 [==============================] - 18s 883us/step - loss: 0.0162 - acc: 0.9952 - val_loss: 0.6246 - val_acc: 0.8344\n"
     ]
    }
   ],
   "source": [
    "from keras.layers import Dense\n",
    "\n",
    "model = Sequential()\n",
    "model.add(Embedding(max_features, 32))\n",
    "model.add(SimpleRNN(32))\n",
    "model.add(Dense(1, activation='sigmoid'))\n",
    "\n",
    "model.compile(optimizer='rmsprop', loss='binary_crossentropy', metrics=['acc'])\n",
    "history = model.fit(input_train, y_train,\n",
    "                    epochs=10,\n",
    "                    batch_size=128,\n",
    "                    validation_split=0.2)"
   ]
  },
  {
   "cell_type": "code",
   "execution_count": 6,
   "metadata": {},
   "outputs": [
    {
     "data": {
      "text/plain": [
       "<matplotlib.legend.Legend at 0x1c4994b6898>"
      ]
     },
     "execution_count": 6,
     "metadata": {},
     "output_type": "execute_result"
    }
   ],
   "source": [
    "import matplotlib.pyplot as plt\n",
    "\n",
    "acc = history.history['acc']\n",
    "val_acc = history.history['val_acc']\n",
    "loss = history.history['loss']\n",
    "val_loss = history.history['val_loss']\n",
    "\n",
    "epochs = range(len(acc))\n",
    "\n",
    "plt.plot(epochs, acc, 'bo', label='Training acc')\n",
    "plt.plot(epochs, val_acc, 'b', label='Validation acc')\n",
    "plt.title('Training and validation accuracy')\n",
    "plt.legend()\n",
    "\n",
    "plt.figure()\n",
    "\n",
    "plt.plot(epochs, loss, 'bo', label='Training loss')\n",
    "plt.plot(epochs, val_loss, 'b', label='Validation loss')\n",
    "plt.title('Training and validation loss')\n",
    "plt.legend()\n"
   ]
  },
  {
   "cell_type": "markdown",
   "metadata": {},
   "source": [
    "\n",
    "#  Comprendre les couches LSTM et GRU\n",
    "\n",
    "- SimpleRNN n'est pas la seule couche récurrente disponible dans Keras. \n",
    "\n",
    "- Il y en a deux autres: LSTM et GRU. \n",
    "\n",
    "\n",
    "En pratique, vous en utiliserez toujours un, car SimpleRNN est généralement trop simpliste pour être réellement utile. \n",
    "\n",
    "\n",
    "SimpleRNN pose un problème majeur: bien qu’il devrait théoriquement être capable de conserver à l’heure t les informations sur les entrées observées plusieurs fois auparavant, dans la pratique, de telles dépendances à long terme sont impossibles à apprendre. \n",
    "\n",
    "Cela est dû au problème du gradient qui disparaît, un effet similaire à celui observé avec les réseaux non récurrents (réseaux de prévision) qui ont plusieurs couches de profondeur\n",
    "\n",
    "Les couches LSTM et GRU sont conçues pour résoudre ce problème."
   ]
  },
  {
   "cell_type": "markdown",
   "metadata": {},
   "source": [
    "\n",
    "# Un exemple concret de LSTM à Keras\n",
    "\n",
    "Nous allons configurer un modèle utilisant une couche LSTM et l’entraîner sur les données IMDB. \n",
    "\n",
    "Le réseau est similaire à celui de SimpleRNN qui vient d'être présenté. Vous spécifiez uniquement la dimensionnalité en sortie de la couche LSTM ; laissez tous les autres arguments (il y en a beaucoup) aux valeurs par défaut de Keras. Keras a de bons paramètres par défaut, et les choses fonctionneront presque toujours sans que vous ayez à passer du temps à régler les paramètres à la main.\n"
   ]
  },
  {
   "cell_type": "code",
   "execution_count": 7,
   "metadata": {},
   "outputs": [
    {
     "name": "stdout",
     "output_type": "stream",
     "text": [
      "Train on 20000 samples, validate on 5000 samples\n",
      "Epoch 1/10\n",
      "20000/20000 [==============================] - 94s 5ms/step - loss: 0.5106 - acc: 0.7611 - val_loss: 0.3567 - val_acc: 0.8502\n",
      "Epoch 2/10\n",
      "20000/20000 [==============================] - 91s 5ms/step - loss: 0.2902 - acc: 0.8858 - val_loss: 0.3198 - val_acc: 0.8628\n",
      "Epoch 3/10\n",
      "20000/20000 [==============================] - 87s 4ms/step - loss: 0.2325 - acc: 0.9112 - val_loss: 0.3144 - val_acc: 0.8824\n",
      "Epoch 4/10\n",
      "20000/20000 [==============================] - 86s 4ms/step - loss: 0.1971 - acc: 0.9271 - val_loss: 0.5121 - val_acc: 0.8358\n",
      "Epoch 5/10\n",
      "20000/20000 [==============================] - 88s 4ms/step - loss: 0.1758 - acc: 0.9359 - val_loss: 0.2861 - val_acc: 0.8828\n",
      "Epoch 6/10\n",
      "20000/20000 [==============================] - 91s 5ms/step - loss: 0.1511 - acc: 0.9462 - val_loss: 0.4104 - val_acc: 0.8816\n",
      "Epoch 7/10\n",
      "20000/20000 [==============================] - 87s 4ms/step - loss: 0.1441 - acc: 0.9481 - val_loss: 0.3942 - val_acc: 0.8802\n",
      "Epoch 8/10\n",
      "20000/20000 [==============================] - 90s 5ms/step - loss: 0.1294 - acc: 0.9545 - val_loss: 0.3294 - val_acc: 0.8806\n",
      "Epoch 9/10\n",
      "20000/20000 [==============================] - 87s 4ms/step - loss: 0.1153 - acc: 0.9600 - val_loss: 0.3431 - val_acc: 0.8736\n",
      "Epoch 10/10\n",
      "20000/20000 [==============================] - 83s 4ms/step - loss: 0.1103 - acc: 0.9610 - val_loss: 0.4218 - val_acc: 0.8780\n"
     ]
    }
   ],
   "source": [
    "from keras.layers import LSTM\n",
    "\n",
    "model = Sequential()\n",
    "model.add(Embedding(max_features, 32))\n",
    "model.add(LSTM(32))\n",
    "model.add(Dense(1, activation='sigmoid'))\n",
    "\n",
    "model.compile(optimizer='rmsprop',\n",
    "              loss='binary_crossentropy',\n",
    "              metrics=['acc'])\n",
    "history = model.fit(input_train, y_train,\n",
    "                    epochs=10,\n",
    "                    batch_size=128,\n",
    "                    validation_split=0.2)"
   ]
  },
  {
   "cell_type": "code",
   "execution_count": 8,
   "metadata": {},
   "outputs": [
    {
     "data": {
      "image/png": "[encoded data removed]",
      "text/plain": [
       "<Figure size 432x288 with 1 Axes>"
      ]
     },
     "metadata": {},
     "output_type": "display_data"
    },
    {
     "data": {
      "image/png": "[encoded data removed]",
      "text/plain": [
       "<Figure size 432x288 with 1 Axes>"
      ]
     },
     "metadata": {},
     "output_type": "display_data"
    }
   ],
   "source": [
    "acc = history.history['acc']\n",
    "val_acc = history.history['val_acc']\n",
    "loss = history.history['loss']\n",
    "val_loss = history.history['val_loss']\n",
    "\n",
    "epochs = range(len(acc))\n",
    "\n",
    "plt.plot(epochs, acc, 'bo', label='Training acc')\n",
    "plt.plot(epochs, val_acc, 'b', label='Validation acc')\n",
    "plt.title('Training and validation accuracy')\n",
    "plt.legend()\n",
    "\n",
    "plt.figure()\n",
    "\n",
    "plt.plot(epochs, loss, 'bo', label='Training loss')\n",
    "plt.plot(epochs, val_loss, 'b', label='Validation loss')\n",
    "plt.title('Training and validation loss')\n",
    "plt.legend()\n",
    "\n",
    "plt.show()"
   ]
  }
 ],
 "metadata": {
  "kernelspec": {
   "display_name": "Python 3",
   "language": "python",
   "name": "python3"
  },
  "language_info": {
   "codemirror_mode": {
    "name": "ipython",
    "version": 3
   },
   "file_extension": ".py",
   "mimetype": "text/x-python",
   "name": "python",
   "nbconvert_exporter": "python",
   "pygments_lexer": "ipython3",
   "version": "3.6.5"
  }
 },
 "nbformat": 4,
 "nbformat_minor": 2
}
