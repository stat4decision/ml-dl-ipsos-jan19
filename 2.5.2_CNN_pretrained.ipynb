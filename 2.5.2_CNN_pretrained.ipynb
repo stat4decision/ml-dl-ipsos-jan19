{
  "nbformat": 4,
  "nbformat_minor": 0,
  "metadata": {
    "colab": {
      "name": "2.5.2_CNN_pretrained.ipynb",
      "version": "0.3.2",
      "provenance": []
    },
    "kernelspec": {
      "name": "python3",
      "display_name": "Python 3"
    },
    "accelerator": "GPU"
  },
  "cells": [
    {
      "metadata": {
        "id": "oNIG9cY6wzs5",
        "colab_type": "code",
        "colab": {
          "base_uri": "https://localhost:8080/",
          "height": 52
        },
        "outputId": "d4997381-60a3-4e5f-a46c-d9befd8cf80d"
      },
      "cell_type": "code",
      "source": [
        "import keras\n",
        "keras.__version__"
      ],
      "execution_count": 1,
      "outputs": [
        {
          "output_type": "stream",
          "text": [
            "Using TensorFlow backend.\n"
          ],
          "name": "stderr"
        },
        {
          "output_type": "execute_result",
          "data": {
            "text/plain": [
              "'2.2.4'"
            ]
          },
          "metadata": {
            "tags": []
          },
          "execution_count": 1
        }
      ]
    },
    {
      "metadata": {
        "id": "n36TAobLwztA",
        "colab_type": "text"
      },
      "cell_type": "markdown",
      "source": [
        "# Utiliser un réseau pré-entrainé\n",
        "\n",
        "Une approche commune très efficace d’apprentissage en profondeur sur des jeux de données d’image de petite taille consiste à exploiter un réseau pré-formé. \n",
        "\n",
        "\n",
        "Un réseau pré-formé est simplement un réseau enregistré préalablement sur un grand ensemble de données\n",
        "\n",
        "\n",
        "Si cet ensemble de données d'origine est suffisamment volumineux et assez général, la hiérarchie des caractéristiques spatiales apprises par le réseau pré-formé peut efficacement servir de modèle générique de notre monde visuel. \n",
        "\n",
        "\n",
        "Par exemple, on peut former un réseau sur ImageNet (où les classes sont principalement des animaux et des objets de la vie quotidienne), puis réutiliser ce réseau ainsi formé pour quelque chose d'aussi distant que l'identification d'éléments de mobilier dans des images. \n",
        "\n",
        "\n",
        "Cette transférabilité des caractéristiques acquises sur différents problèmes constitue un avantage essentiel de l’apprentissage en profondeur par rapport à de nombreuses anciennes méthodes d’apprentissage peu profondes, et rend l’apprentissage en profondeur très efficace pour les problèmes de petites données.\n",
        "\n",
        "\n",
        "Dans notre cas, nous allons considérer un grand réseau convnet formé sur le jeu de données ImageNet (1,4 million d’images étiquetées et 1 000 classes différentes).\n",
        "\n",
        "\n",
        "ImageNet contient de nombreuses classes d'animaux, y compris différentes espèces de chats et de chiens, et nous pouvons donc nous attendre à de très bonnes performances pour notre problème de classification chats contre chiens.\n",
        "\n",
        "\n",
        "Nous utiliserons l'architecture VGG16, développée par Karen Simonyan et Andrew Zisserman en 2014, une architecture convnet simple et largement utilisée pour ImageNet."
      ]
    },
    {
      "metadata": {
        "id": "u-YkmqqVwztB",
        "colab_type": "text"
      },
      "cell_type": "markdown",
      "source": [
        "## Extraction de caractéristiques\n",
        "\n",
        "L'extraction de caractéristiques consiste à utiliser les représentations apprises par un réseau précédent pour extraire des caractéristiques intéressantes de nouveaux échantillons.\n",
        "\n",
        "\n",
        "Ces fonctionnalités sont ensuite exécutées dans un nouveau classificateur, formé à partir de rien.\n",
        "\n",
        "\n",
        "\"L'extraction de caractéristiques\" consistera simplement à prendre la base convolutionnelle d'un réseau préalablement formé, en exécutant les nouvelles données et former un nouveau classificateur par-dessus la sortie."
      ]
    },
    {
      "metadata": {
        "id": "sebYFMUUwztC",
        "colab_type": "text"
      },
      "cell_type": "markdown",
      "source": [
        "Mettons cela en pratique en utilisant la base convolutionnelle du réseau VGG16, formée sur ImageNet, pour extraire des fonctionnalités intéressantes de\n",
        "nos images de chat et de chien, puis l’entraînement d’un classifieur chat / chien au-dessus de ces caractéristiques.\n",
        "\n",
        "Le modèle VGG16, entre autres, est livré pré-emballé avec Keras. Vous pouvez l'importer à partir du module `keras.applications`. Voici la liste des\n",
        "Modèles de classification d'images (tous pré-formés sur le jeu de données ImageNet) disponibles dans le cadre de `keras.applications`:\n",
        "\n",
        "* Xception\n",
        "* InceptionV3\n",
        "* ResNet50\n",
        "* VGG16\n",
        "* VGG19\n",
        "* MobileNet\n",
        "\n",
        "Instancions le modèle VGG16:"
      ]
    },
    {
      "metadata": {
        "id": "odQwZXr_wztD",
        "colab_type": "code",
        "colab": {
          "base_uri": "https://localhost:8080/",
          "height": 52
        },
        "outputId": "bc93d6f9-593a-476d-ab02-b3e8744b876f"
      },
      "cell_type": "code",
      "source": [
        "from keras.applications import VGG16\n",
        "\n",
        "conv_base = VGG16(weights='imagenet',\n",
        "                  include_top=False,\n",
        "                  input_shape=(150, 150, 3))"
      ],
      "execution_count": 2,
      "outputs": [
        {
          "output_type": "stream",
          "text": [
            "Downloading data from https://github.com/fchollet/deep-learning-models/releases/download/v0.1/vgg16_weights_tf_dim_ordering_tf_kernels_notop.h5\n",
            "58892288/58889256 [==============================] - 5s 0us/step\n"
          ],
          "name": "stdout"
        }
      ]
    },
    {
      "metadata": {
        "id": "paUUMqojwztG",
        "colab_type": "text"
      },
      "cell_type": "markdown",
      "source": [
        "Nous avons passé trois arguments au constructeur:\n",
        "\n",
        "* `weights` pour spécifier le point de contrôle de la pondération à partir duquel initialiser le modèle\n",
        "* `include_top`, qui fait référence à l'inclusion ou non du classifieur densément connecté au sommet du réseau. Par défaut, ce classificateur densément connecté correspondrait aux 1000 classes d’ImageNet. Comme nous avons l’intention d’utiliser notre propre réseau classificateur, nous n'avons pas besoin de l'inclure.\n",
        "* `input_shape`, la forme des tenseurs d'image que nous allons fournir au réseau. Cet argument est purement optionnel: si nous ne le passons pas, le réseau pourra alors traiter les entrées de toutes tailles."
      ]
    },
    {
      "metadata": {
        "id": "yuOtZu5ywztI",
        "colab_type": "code",
        "colab": {
          "base_uri": "https://localhost:8080/",
          "height": 797
        },
        "outputId": "84d7bed7-b635-48b7-ecb6-b3440718de4f"
      },
      "cell_type": "code",
      "source": [
        "conv_base.summary()"
      ],
      "execution_count": 3,
      "outputs": [
        {
          "output_type": "stream",
          "text": [
            "_________________________________________________________________\n",
            "Layer (type)                 Output Shape              Param #   \n",
            "=================================================================\n",
            "input_1 (InputLayer)         (None, 150, 150, 3)       0         \n",
            "_________________________________________________________________\n",
            "block1_conv1 (Conv2D)        (None, 150, 150, 64)      1792      \n",
            "_________________________________________________________________\n",
            "block1_conv2 (Conv2D)        (None, 150, 150, 64)      36928     \n",
            "_________________________________________________________________\n",
            "block1_pool (MaxPooling2D)   (None, 75, 75, 64)        0         \n",
            "_________________________________________________________________\n",
            "block2_conv1 (Conv2D)        (None, 75, 75, 128)       73856     \n",
            "_________________________________________________________________\n",
            "block2_conv2 (Conv2D)        (None, 75, 75, 128)       147584    \n",
            "_________________________________________________________________\n",
            "block2_pool (MaxPooling2D)   (None, 37, 37, 128)       0         \n",
            "_________________________________________________________________\n",
            "block3_conv1 (Conv2D)        (None, 37, 37, 256)       295168    \n",
            "_________________________________________________________________\n",
            "block3_conv2 (Conv2D)        (None, 37, 37, 256)       590080    \n",
            "_________________________________________________________________\n",
            "block3_conv3 (Conv2D)        (None, 37, 37, 256)       590080    \n",
            "_________________________________________________________________\n",
            "block3_pool (MaxPooling2D)   (None, 18, 18, 256)       0         \n",
            "_________________________________________________________________\n",
            "block4_conv1 (Conv2D)        (None, 18, 18, 512)       1180160   \n",
            "_________________________________________________________________\n",
            "block4_conv2 (Conv2D)        (None, 18, 18, 512)       2359808   \n",
            "_________________________________________________________________\n",
            "block4_conv3 (Conv2D)        (None, 18, 18, 512)       2359808   \n",
            "_________________________________________________________________\n",
            "block4_pool (MaxPooling2D)   (None, 9, 9, 512)         0         \n",
            "_________________________________________________________________\n",
            "block5_conv1 (Conv2D)        (None, 9, 9, 512)         2359808   \n",
            "_________________________________________________________________\n",
            "block5_conv2 (Conv2D)        (None, 9, 9, 512)         2359808   \n",
            "_________________________________________________________________\n",
            "block5_conv3 (Conv2D)        (None, 9, 9, 512)         2359808   \n",
            "_________________________________________________________________\n",
            "block5_pool (MaxPooling2D)   (None, 4, 4, 512)         0         \n",
            "=================================================================\n",
            "Total params: 14,714,688\n",
            "Trainable params: 14,714,688\n",
            "Non-trainable params: 0\n",
            "_________________________________________________________________\n"
          ],
          "name": "stdout"
        }
      ]
    },
    {
      "metadata": {
        "id": "gnlj7RQnwztM",
        "colab_type": "text"
      },
      "cell_type": "markdown",
      "source": [
        "La carte de caractéristiques finale a la forme `(4, 4, 512)`. C'est la caractéristique sur laquelle nous allons coller un classificateur densément connecté.\n",
        "\n",
        "\n",
        "À ce stade, nous pourrions procéder de deux manières:\n",
        "\n",
        "* Exécuter la base de convolution sur notre ensemble de données, enregistrer sa sortie dans un tableau Numpy sur disque, puis utiliser ces données comme entrée du classificateur autonome dense. \n",
        "\n",
        "\n",
        "* Étendre le modèle que nous avons (`conv_base`) en ajoutant des couches` Dense` en haut, et en exécutant le tout de bout en bout sur les données en entrée.\n"
      ]
    },
    {
      "metadata": {
        "id": "DSkVvZKHxiXM",
        "colab_type": "code",
        "colab": {
          "base_uri": "https://localhost:8080/",
          "height": 208
        },
        "outputId": "fede76ae-e291-4a55-e908-51175cc2590d"
      },
      "cell_type": "code",
      "source": [
        "!wget --no-check-certificate \\\n",
        "    https://storage.googleapis.com/mledu-datasets/cats_and_dogs_filtered.zip \\\n",
        "    -O /tmp/cats_and_dogs_filtered.zip"
      ],
      "execution_count": 4,
      "outputs": [
        {
          "output_type": "stream",
          "text": [
            "--2019-01-17 22:00:39--  https://storage.googleapis.com/mledu-datasets/cats_and_dogs_filtered.zip\n",
            "Resolving storage.googleapis.com (storage.googleapis.com)... 74.125.203.128, 2404:6800:4008:c02::80\n",
            "Connecting to storage.googleapis.com (storage.googleapis.com)|74.125.203.128|:443... connected.\n",
            "HTTP request sent, awaiting response... 200 OK\n",
            "Length: 68606236 (65M) [application/zip]\n",
            "Saving to: ‘/tmp/cats_and_dogs_filtered.zip’\n",
            "\n",
            "/tmp/cats_and_dogs_ 100%[===================>]  65.43M  78.3MB/s    in 0.8s    \n",
            "\n",
            "2019-01-17 22:00:41 (78.3 MB/s) - ‘/tmp/cats_and_dogs_filtered.zip’ saved [68606236/68606236]\n",
            "\n"
          ],
          "name": "stdout"
        }
      ]
    },
    {
      "metadata": {
        "id": "LJlJvM5txi96",
        "colab_type": "code",
        "colab": {}
      },
      "cell_type": "code",
      "source": [
        "import os\n",
        "import zipfile\n",
        "\n",
        "local_zip = '/tmp/cats_and_dogs_filtered.zip'\n",
        "zip_ref = zipfile.ZipFile(local_zip, 'r')\n",
        "zip_ref.extractall('/tmp')\n",
        "zip_ref.close()"
      ],
      "execution_count": 0,
      "outputs": []
    },
    {
      "metadata": {
        "id": "rVfiZ_xDx--L",
        "colab_type": "code",
        "colab": {}
      },
      "cell_type": "code",
      "source": [
        "base_dir = '/tmp/cats_and_dogs_filtered'\n",
        "train_dir = os.path.join(base_dir, 'train')\n",
        "validation_dir = os.path.join(base_dir, 'validation')\n",
        "\n",
        "# Directory with our training cat pictures\n",
        "train_cats_dir = os.path.join(train_dir, 'cats')\n",
        "\n",
        "# Directory with our training dog pictures\n",
        "train_dogs_dir = os.path.join(train_dir, 'dogs')\n",
        "\n",
        "# Directory with our validation cat pictures\n",
        "validation_cats_dir = os.path.join(validation_dir, 'cats')\n",
        "\n",
        "# Directory with our validation dog pictures\n",
        "validation_dogs_dir = os.path.join(validation_dir, 'dogs')"
      ],
      "execution_count": 0,
      "outputs": []
    },
    {
      "metadata": {
        "id": "t-xEtQLryCkm",
        "colab_type": "code",
        "colab": {
          "base_uri": "https://localhost:8080/",
          "height": 72
        },
        "outputId": "147d3cfe-e077-4998-c360-c2b9d0cc4888"
      },
      "cell_type": "code",
      "source": [
        "train_cat_fnames = os.listdir(train_cats_dir)\n",
        "print(train_cat_fnames[:10])\n",
        "\n",
        "train_dog_fnames = os.listdir(train_dogs_dir)\n",
        "train_dog_fnames.sort()\n",
        "print( train_dog_fnames[:10])"
      ],
      "execution_count": 7,
      "outputs": [
        {
          "output_type": "stream",
          "text": [
            "['cat.807.jpg', 'cat.888.jpg', 'cat.788.jpg', 'cat.219.jpg', 'cat.26.jpg', 'cat.579.jpg', 'cat.920.jpg', 'cat.625.jpg', 'cat.45.jpg', 'cat.995.jpg']\n",
            "['dog.0.jpg', 'dog.1.jpg', 'dog.10.jpg', 'dog.100.jpg', 'dog.101.jpg', 'dog.102.jpg', 'dog.103.jpg', 'dog.104.jpg', 'dog.105.jpg', 'dog.106.jpg']\n"
          ],
          "name": "stdout"
        }
      ]
    },
    {
      "metadata": {
        "id": "XgU4H1axwztN",
        "colab_type": "code",
        "colab": {
          "base_uri": "https://localhost:8080/",
          "height": 52
        },
        "outputId": "798da419-9426-447d-a479-c7d6099ee388"
      },
      "cell_type": "code",
      "source": [
        "from tensorflow.keras.preprocessing.image import ImageDataGenerator\n",
        "\n",
        "# All images will be rescaled by 1./255\n",
        "train_datagen = ImageDataGenerator(rescale=1./255)\n",
        "test_datagen = ImageDataGenerator(rescale=1./255)\n",
        "\n",
        "# Flow training images in batches of 20 using train_datagen generator\n",
        "train_generator = train_datagen.flow_from_directory(\n",
        "        train_dir,  # This is the source directory for training images\n",
        "        target_size=(150, 150),  # All images will be resized to 150x150\n",
        "        batch_size=20,\n",
        "        # Since we use binary_crossentropy loss, we need binary labels\n",
        "        class_mode='binary')\n",
        "\n",
        "# Flow validation images in batches of 20 using test_datagen generator\n",
        "validation_generator = test_datagen.flow_from_directory(\n",
        "        validation_dir,\n",
        "        target_size=(150, 150),\n",
        "        batch_size=20,\n",
        "        class_mode='binary')"
      ],
      "execution_count": 8,
      "outputs": [
        {
          "output_type": "stream",
          "text": [
            "Found 2000 images belonging to 2 classes.\n",
            "Found 1000 images belonging to 2 classes.\n"
          ],
          "name": "stdout"
        }
      ]
    },
    {
      "metadata": {
        "id": "042SKPzxwztc",
        "colab_type": "code",
        "colab": {}
      },
      "cell_type": "code",
      "source": [
        "from keras import models\n",
        "from keras import layers\n",
        "\n",
        "model = models.Sequential()\n",
        "model.add(conv_base)\n",
        "model.add(layers.Flatten())\n",
        "model.add(layers.Dense(256, activation='relu'))\n",
        "model.add(layers.Dense(1, activation='sigmoid'))"
      ],
      "execution_count": 0,
      "outputs": []
    },
    {
      "metadata": {
        "id": "lVs8BW2awztf",
        "colab_type": "text"
      },
      "cell_type": "markdown",
      "source": [
        "This is what our model looks like now:"
      ]
    },
    {
      "metadata": {
        "id": "g7tBOmJPwztf",
        "colab_type": "code",
        "colab": {
          "base_uri": "https://localhost:8080/",
          "height": 277
        },
        "outputId": "ea848e98-9d01-4a0d-9caf-024bcb42a4a9"
      },
      "cell_type": "code",
      "source": [
        "model.summary()"
      ],
      "execution_count": 11,
      "outputs": [
        {
          "output_type": "stream",
          "text": [
            "_________________________________________________________________\n",
            "Layer (type)                 Output Shape              Param #   \n",
            "=================================================================\n",
            "vgg16 (Model)                (None, 4, 4, 512)         14714688  \n",
            "_________________________________________________________________\n",
            "flatten_1 (Flatten)          (None, 8192)              0         \n",
            "_________________________________________________________________\n",
            "dense_1 (Dense)              (None, 256)               2097408   \n",
            "_________________________________________________________________\n",
            "dense_2 (Dense)              (None, 1)                 257       \n",
            "=================================================================\n",
            "Total params: 16,812,353\n",
            "Trainable params: 16,812,353\n",
            "Non-trainable params: 0\n",
            "_________________________________________________________________\n"
          ],
          "name": "stdout"
        }
      ]
    },
    {
      "metadata": {
        "id": "0mLP1WsWwztj",
        "colab_type": "code",
        "colab": {
          "base_uri": "https://localhost:8080/",
          "height": 35
        },
        "outputId": "3ca1426d-d342-48fa-a08f-eee13b243f29"
      },
      "cell_type": "code",
      "source": [
        "print('This is the number of trainable weights '\n",
        "      'before freezing the conv base:', len(model.trainable_weights))"
      ],
      "execution_count": 12,
      "outputs": [
        {
          "output_type": "stream",
          "text": [
            "This is the number of trainable weights before freezing the conv base: 30\n"
          ],
          "name": "stdout"
        }
      ]
    },
    {
      "metadata": {
        "id": "VmZOU2lcwztm",
        "colab_type": "code",
        "colab": {}
      },
      "cell_type": "code",
      "source": [
        "conv_base.trainable = False"
      ],
      "execution_count": 0,
      "outputs": []
    },
    {
      "metadata": {
        "id": "We9hT62qwztq",
        "colab_type": "code",
        "colab": {
          "base_uri": "https://localhost:8080/",
          "height": 35
        },
        "outputId": "ff9f4430-fdfe-4d2e-f7ab-a7e760a75dab"
      },
      "cell_type": "code",
      "source": [
        "print('This is the number of trainable weights '\n",
        "      'after freezing the conv base:', len(model.trainable_weights))"
      ],
      "execution_count": 14,
      "outputs": [
        {
          "output_type": "stream",
          "text": [
            "This is the number of trainable weights after freezing the conv base: 4\n"
          ],
          "name": "stdout"
        }
      ]
    },
    {
      "metadata": {
        "id": "BUDTyLaywztu",
        "colab_type": "code",
        "colab": {
          "base_uri": "https://localhost:8080/",
          "height": 1092
        },
        "outputId": "78ec29ec-9d4a-4cc0-a085-750eb8c77074"
      },
      "cell_type": "code",
      "source": [
        "from keras.preprocessing.image import ImageDataGenerator\n",
        "\n",
        "train_datagen = ImageDataGenerator(\n",
        "      rescale=1./255,\n",
        "      rotation_range=40,\n",
        "      width_shift_range=0.2,\n",
        "      height_shift_range=0.2,\n",
        "      shear_range=0.2,\n",
        "      zoom_range=0.2,\n",
        "      horizontal_flip=True,\n",
        "      fill_mode='nearest')\n",
        "\n",
        "# Note that the validation data should not be augmented!\n",
        "test_datagen = ImageDataGenerator(rescale=1./255)\n",
        "\n",
        "train_generator = train_datagen.flow_from_directory(\n",
        "        # This is the target directory\n",
        "        train_dir,\n",
        "        # All images will be resized to 150x150\n",
        "        target_size=(150, 150),\n",
        "        batch_size=20,\n",
        "        # Since we use binary_crossentropy loss, we need binary labels\n",
        "        class_mode='binary')\n",
        "\n",
        "validation_generator = test_datagen.flow_from_directory(\n",
        "        validation_dir,\n",
        "        target_size=(150, 150),\n",
        "        batch_size=20,\n",
        "        class_mode='binary')\n",
        "\n",
        "model.compile(loss='binary_crossentropy',\n",
        "              optimizer=\"rmsprop\",\n",
        "              metrics=['acc'])\n",
        "\n",
        "history = model.fit_generator(\n",
        "      train_generator,\n",
        "      steps_per_epoch=100,\n",
        "      epochs=30,\n",
        "      validation_data=validation_generator,\n",
        "      validation_steps=50,\n",
        "      verbose=2)"
      ],
      "execution_count": 18,
      "outputs": [
        {
          "output_type": "stream",
          "text": [
            "Found 2000 images belonging to 2 classes.\n",
            "Found 1000 images belonging to 2 classes.\n",
            "Epoch 1/30\n",
            " - 27s - loss: 0.3734 - acc: 0.8320 - val_loss: 0.3786 - val_acc: 0.8480\n",
            "Epoch 2/30\n",
            " - 26s - loss: 0.3512 - acc: 0.8400 - val_loss: 0.2656 - val_acc: 0.8880\n",
            "Epoch 3/30\n",
            " - 25s - loss: 0.3472 - acc: 0.8440 - val_loss: 0.2639 - val_acc: 0.8770\n",
            "Epoch 4/30\n",
            " - 26s - loss: 0.3209 - acc: 0.8610 - val_loss: 0.2765 - val_acc: 0.8880\n",
            "Epoch 5/30\n",
            " - 26s - loss: 0.3266 - acc: 0.8565 - val_loss: 0.2835 - val_acc: 0.8790\n",
            "Epoch 6/30\n",
            " - 26s - loss: 0.3243 - acc: 0.8510 - val_loss: 0.2800 - val_acc: 0.8760\n",
            "Epoch 7/30\n",
            " - 26s - loss: 0.3123 - acc: 0.8635 - val_loss: 0.2690 - val_acc: 0.8800\n",
            "Epoch 8/30\n",
            " - 26s - loss: 0.3053 - acc: 0.8635 - val_loss: 0.3134 - val_acc: 0.8680\n",
            "Epoch 9/30\n",
            " - 26s - loss: 0.2980 - acc: 0.8625 - val_loss: 0.2734 - val_acc: 0.8870\n",
            "Epoch 10/30\n",
            " - 26s - loss: 0.3101 - acc: 0.8660 - val_loss: 0.3266 - val_acc: 0.8730\n",
            "Epoch 11/30\n",
            " - 26s - loss: 0.2884 - acc: 0.8780 - val_loss: 0.2940 - val_acc: 0.8890\n",
            "Epoch 12/30\n",
            " - 26s - loss: 0.2867 - acc: 0.8715 - val_loss: 0.2756 - val_acc: 0.8830\n",
            "Epoch 13/30\n",
            " - 26s - loss: 0.2866 - acc: 0.8720 - val_loss: 0.2796 - val_acc: 0.8930\n",
            "Epoch 14/30\n",
            " - 26s - loss: 0.3091 - acc: 0.8650 - val_loss: 0.2743 - val_acc: 0.8880\n",
            "Epoch 15/30\n",
            " - 26s - loss: 0.2839 - acc: 0.8680 - val_loss: 0.4395 - val_acc: 0.8420\n",
            "Epoch 16/30\n",
            " - 26s - loss: 0.2831 - acc: 0.8770 - val_loss: 0.2865 - val_acc: 0.8870\n",
            "Epoch 17/30\n",
            " - 26s - loss: 0.2880 - acc: 0.8710 - val_loss: 0.2685 - val_acc: 0.8920\n",
            "Epoch 18/30\n",
            " - 26s - loss: 0.2819 - acc: 0.8755 - val_loss: 0.3469 - val_acc: 0.8740\n",
            "Epoch 19/30\n",
            " - 26s - loss: 0.2764 - acc: 0.8820 - val_loss: 0.2697 - val_acc: 0.8900\n",
            "Epoch 20/30\n",
            " - 26s - loss: 0.2669 - acc: 0.8765 - val_loss: 0.3101 - val_acc: 0.8980\n",
            "Epoch 21/30\n",
            " - 26s - loss: 0.2692 - acc: 0.8780 - val_loss: 0.3441 - val_acc: 0.8930\n",
            "Epoch 22/30\n",
            " - 26s - loss: 0.2598 - acc: 0.8900 - val_loss: 0.2616 - val_acc: 0.9020\n",
            "Epoch 23/30\n",
            " - 26s - loss: 0.2887 - acc: 0.8785 - val_loss: 0.2628 - val_acc: 0.9070\n",
            "Epoch 24/30\n",
            " - 26s - loss: 0.2517 - acc: 0.8910 - val_loss: 0.2678 - val_acc: 0.8920\n",
            "Epoch 25/30\n",
            " - 26s - loss: 0.2787 - acc: 0.8780 - val_loss: 0.2606 - val_acc: 0.8900\n",
            "Epoch 26/30\n",
            " - 26s - loss: 0.2418 - acc: 0.8865 - val_loss: 0.2672 - val_acc: 0.9050\n",
            "Epoch 27/30\n",
            " - 26s - loss: 0.2669 - acc: 0.8865 - val_loss: 0.3098 - val_acc: 0.8960\n",
            "Epoch 28/30\n",
            " - 26s - loss: 0.2621 - acc: 0.8875 - val_loss: 0.2609 - val_acc: 0.9000\n",
            "Epoch 29/30\n",
            " - 25s - loss: 0.2528 - acc: 0.8970 - val_loss: 0.3270 - val_acc: 0.8950\n",
            "Epoch 30/30\n",
            " - 26s - loss: 0.2394 - acc: 0.9035 - val_loss: 0.2600 - val_acc: 0.9000\n"
          ],
          "name": "stdout"
        }
      ]
    },
    {
      "metadata": {
        "id": "sfTDkyO_wzt0",
        "colab_type": "code",
        "colab": {}
      },
      "cell_type": "code",
      "source": [
        "model.save('cats_and_dogs_small_3.h5')"
      ],
      "execution_count": 0,
      "outputs": []
    },
    {
      "metadata": {
        "id": "BlSnJBU3wzt6",
        "colab_type": "code",
        "colab": {
          "base_uri": "https://localhost:8080/",
          "height": 544
        },
        "outputId": "c8e8d7fc-49a9-4be4-f6eb-2d286acfa470"
      },
      "cell_type": "code",
      "source": [
        "import matplotlib.pyplot as plt\n",
        "%matplotlib inline\n",
        "\n",
        "acc = history.history['acc']\n",
        "val_acc = history.history['val_acc']\n",
        "loss = history.history['loss']\n",
        "val_loss = history.history['val_loss']\n",
        "\n",
        "epochs = range(len(acc))\n",
        "\n",
        "plt.plot(epochs, acc, 'b--', label='Training acc')\n",
        "plt.plot(epochs, val_acc, 'b', label='Validation acc')\n",
        "plt.title('Training and validation accuracy')\n",
        "plt.legend()\n",
        "\n",
        "plt.figure()\n",
        "\n",
        "plt.plot(epochs, loss, 'b--', label='Training loss')\n",
        "plt.plot(epochs, val_loss, 'b', label='Validation loss')\n",
        "plt.title('Training and validation loss')\n",
        "plt.legend()\n",
        "\n",
        "plt.show()"
      ],
      "execution_count": 20,
      "outputs": [
        {
          "output_type": "display_data",
          "data": {
            "image/png": "[encoded data removed]",
            "text/plain": [
              "<Figure size 432x288 with 1 Axes>"
            ]
          },
          "metadata": {
            "tags": []
          }
        },
        {
          "output_type": "display_data",
          "data": {
            "image/png": "[encoded data removed]",
            "text/plain": [
              "<Figure size 432x288 with 1 Axes>"
            ]
          },
          "metadata": {
            "tags": []
          }
        }
      ]
    }
  ]
}